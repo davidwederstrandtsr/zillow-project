{
 "cells": [
  {
   "cell_type": "code",
   "execution_count": 1,
   "metadata": {},
   "outputs": [],
   "source": [
    "import os.path\n",
    "import pandas as pd\n",
    "import numpy as np \n",
    "import env"
   ]
  },
  {
   "cell_type": "code",
   "execution_count": 2,
   "metadata": {},
   "outputs": [],
   "source": [
    "def get_df():\n",
    "    if os.path.isfile('zillow.csv'):\n",
    "        df = get_zillow_csv()\n",
    "    else:\n",
    "        df = wrangle_zillow()\n",
    "    return df"
   ]
  },
  {
   "cell_type": "code",
   "execution_count": 3,
   "metadata": {},
   "outputs": [],
   "source": [
    "def get_zillow_sql():\n",
    "     return '''\n",
    "        select \n",
    "            bathroomcnt,\n",
    "            bedroomcnt,\n",
    "            calculatedfinishedsquarefeet,\n",
    "            taxvaluedollarcnt,\n",
    "            taxamount,\n",
    "            fips\n",
    "        from `properties_2017`\n",
    "        join `predictions_2017`using(`parcelid`)\n",
    "        where propertylandusetypeid = 261 and `transactiondate` >= '2017-05-01' and `transactiondate` <= '2017-06-30'\n",
    "    '''"
   ]
  },
  {
   "cell_type": "code",
   "execution_count": 4,
   "metadata": {},
   "outputs": [],
   "source": [
    "def get_zillow_url():\n",
    "    return f'mysql+pymysql://{env.user}:{env.password}@{env.host}/zillow'"
   ]
  },
  {
   "cell_type": "code",
   "execution_count": 5,
   "metadata": {},
   "outputs": [],
   "source": [
    "def wrangle_zillow():\n",
    "    df = pd.read_sql(get_zillow_sql(), get_zillow_url())\n",
    "    bathcount = round(df.bathroomcnt.mean())\n",
    "    bedcount = round(df.bedroomcnt.mean())\n",
    "    df.bathroomcnt.replace(0, bathcount, inplace=True)\n",
    "    df.bedroomcnt.replace(0, bedcount, inplace=True)\n",
    "    df.dropna(inplace=True)\n",
    "    df['tax_rate'] = df.taxvaluedollarcnt / df.taxamount\n",
    "    df.fips = df.fips.astype(int)\n",
    "    \n",
    "    return df"
   ]
  },
  {
   "cell_type": "code",
   "execution_count": 6,
   "metadata": {},
   "outputs": [],
   "source": [
    "def get_zillow_csv():\n",
    "    df = pd.read_csv('zillow.csv')\n",
    "    df.drop(columns=['Unnamed: 0'], inplace=True)\n",
    "    return df"
   ]
  },
  {
   "cell_type": "code",
   "execution_count": null,
   "metadata": {},
   "outputs": [],
   "source": []
  }
 ],
 "metadata": {
  "kernelspec": {
   "display_name": "Python 3",
   "language": "python",
   "name": "python3"
  },
  "language_info": {
   "codemirror_mode": {
    "name": "ipython",
    "version": 3
   },
   "file_extension": ".py",
   "mimetype": "text/x-python",
   "name": "python",
   "nbconvert_exporter": "python",
   "pygments_lexer": "ipython3",
   "version": "3.7.6"
  }
 },
 "nbformat": 4,
 "nbformat_minor": 4
}
