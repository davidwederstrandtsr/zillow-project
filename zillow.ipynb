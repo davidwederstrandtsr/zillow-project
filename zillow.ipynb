{
 "cells": [
  {
   "cell_type": "code",
   "execution_count": 1,
   "metadata": {},
   "outputs": [],
   "source": [
    "import acquire\n",
    "import env\n",
    "import evaluate\n",
    "import explore\n",
    "import matplotlib.pyplot as plt\n",
    "import numpy as np\n",
    "import os.path\n",
    "import prep\n",
    "import pandas as pd\n",
    "import seaborn as sns\n",
    "import sklearn.linear_model\n",
    "import sklearn.model_selection\n",
    "import sklearn.feature_selection\n",
    "import warnings\n",
    "\n",
    "from math import sqrt\n",
    "from scipy import stats\n",
    "from sklearn.metrics import mean_squared_error as mse\n",
    "from sklearn.metrics import explained_variance_score as evs\n",
    "from sklearn.preprocessing import StandardScaler, MinMaxScaler\n",
    "from statsmodels.formula.api import ols\n",
    "\n",
    "%matplotlib inline\n",
    "\n",
    "# limit all floats to 3 decimal places\n",
    "pd.options.display.float_format = '{:.3f}'.format\n",
    "warnings.filterwarnings('ignore')"
   ]
  },
  {
   "cell_type": "markdown",
   "metadata": {},
   "source": [
    "#  Requirements and Planning\n",
    "- write a SQL query to retreive data from the zillow database\n",
    "- figure out state and county taxes for each property\n",
    "- determine what drivers of the single unit property values for the \"hot months\" May and June\n",
    "- build report for Zillow data science team"
   ]
  },
  {
   "cell_type": "markdown",
   "metadata": {},
   "source": [
    "# Deliverables\n",
    "#### A report (in the form of a presentation, both verbal and through a slides)\n",
    "- vizualize tax distribution by county\n",
    "- summarize your findings about the drivers of the single unit property values. \n",
    "- visualizations that support your main points.\n",
    "- work must be reproducible by someone with their own env.py file."
   ]
  },
  {
   "cell_type": "markdown",
   "metadata": {},
   "source": [
    "# Acquire the Data\n",
    "- call acquire_data() method from the acquire.py\n",
    "- acquire.acquire_data() connects to the codeup_db\n",
    "- runs a sql script to acquire the zillow data"
   ]
  },
  {
   "cell_type": "code",
   "execution_count": 2,
   "metadata": {},
   "outputs": [
    {
     "name": "stdout",
     "output_type": "stream",
     "text": [
      "Acquiring data ...\n",
      "\n",
      "- csv already exist\n",
      "\n",
      "Data has been acquired\n"
     ]
    },
    {
     "data": {
      "text/html": [
       "<div>\n",
       "<style scoped>\n",
       "    .dataframe tbody tr th:only-of-type {\n",
       "        vertical-align: middle;\n",
       "    }\n",
       "\n",
       "    .dataframe tbody tr th {\n",
       "        vertical-align: top;\n",
       "    }\n",
       "\n",
       "    .dataframe thead th {\n",
       "        text-align: right;\n",
       "    }\n",
       "</style>\n",
       "<table border=\"1\" class=\"dataframe\">\n",
       "  <thead>\n",
       "    <tr style=\"text-align: right;\">\n",
       "      <th></th>\n",
       "      <th>bedroom_count</th>\n",
       "      <th>bathroom_count</th>\n",
       "      <th>total_sqft</th>\n",
       "      <th>tax_property_value</th>\n",
       "      <th>tax_amount</th>\n",
       "      <th>fips</th>\n",
       "      <th>county</th>\n",
       "      <th>state</th>\n",
       "    </tr>\n",
       "  </thead>\n",
       "  <tbody>\n",
       "    <tr>\n",
       "      <th>0</th>\n",
       "      <td>2.000</td>\n",
       "      <td>3.000</td>\n",
       "      <td>1458.000</td>\n",
       "      <td>136104.000</td>\n",
       "      <td>2319.900</td>\n",
       "      <td>6037.000</td>\n",
       "      <td>Los Angeles</td>\n",
       "      <td>CA</td>\n",
       "    </tr>\n",
       "    <tr>\n",
       "      <th>1</th>\n",
       "      <td>1.000</td>\n",
       "      <td>2.000</td>\n",
       "      <td>1421.000</td>\n",
       "      <td>35606.000</td>\n",
       "      <td>543.690</td>\n",
       "      <td>6037.000</td>\n",
       "      <td>Los Angeles</td>\n",
       "      <td>CA</td>\n",
       "    </tr>\n",
       "    <tr>\n",
       "      <th>2</th>\n",
       "      <td>2.000</td>\n",
       "      <td>3.000</td>\n",
       "      <td>1650.000</td>\n",
       "      <td>614000.000</td>\n",
       "      <td>7673.190</td>\n",
       "      <td>6037.000</td>\n",
       "      <td>Los Angeles</td>\n",
       "      <td>CA</td>\n",
       "    </tr>\n",
       "    <tr>\n",
       "      <th>3</th>\n",
       "      <td>1.000</td>\n",
       "      <td>2.000</td>\n",
       "      <td>693.000</td>\n",
       "      <td>274237.000</td>\n",
       "      <td>3267.470</td>\n",
       "      <td>6037.000</td>\n",
       "      <td>Los Angeles</td>\n",
       "      <td>CA</td>\n",
       "    </tr>\n",
       "    <tr>\n",
       "      <th>4</th>\n",
       "      <td>0.000</td>\n",
       "      <td>0.000</td>\n",
       "      <td>1378.000</td>\n",
       "      <td>168828.000</td>\n",
       "      <td>2135.390</td>\n",
       "      <td>6037.000</td>\n",
       "      <td>Los Angeles</td>\n",
       "      <td>CA</td>\n",
       "    </tr>\n",
       "    <tr>\n",
       "      <th>...</th>\n",
       "      <td>...</td>\n",
       "      <td>...</td>\n",
       "      <td>...</td>\n",
       "      <td>...</td>\n",
       "      <td>...</td>\n",
       "      <td>...</td>\n",
       "      <td>...</td>\n",
       "      <td>...</td>\n",
       "    </tr>\n",
       "    <tr>\n",
       "      <th>15031</th>\n",
       "      <td>2.000</td>\n",
       "      <td>3.000</td>\n",
       "      <td>1575.000</td>\n",
       "      <td>506000.000</td>\n",
       "      <td>5417.500</td>\n",
       "      <td>6111.000</td>\n",
       "      <td>Ventura</td>\n",
       "      <td>CA</td>\n",
       "    </tr>\n",
       "    <tr>\n",
       "      <th>15032</th>\n",
       "      <td>2.000</td>\n",
       "      <td>3.000</td>\n",
       "      <td>1645.000</td>\n",
       "      <td>230986.000</td>\n",
       "      <td>2855.780</td>\n",
       "      <td>6111.000</td>\n",
       "      <td>Ventura</td>\n",
       "      <td>CA</td>\n",
       "    </tr>\n",
       "    <tr>\n",
       "      <th>15033</th>\n",
       "      <td>2.000</td>\n",
       "      <td>3.000</td>\n",
       "      <td>1308.000</td>\n",
       "      <td>255407.000</td>\n",
       "      <td>2788.680</td>\n",
       "      <td>6111.000</td>\n",
       "      <td>Ventura</td>\n",
       "      <td>CA</td>\n",
       "    </tr>\n",
       "    <tr>\n",
       "      <th>15034</th>\n",
       "      <td>2.500</td>\n",
       "      <td>4.000</td>\n",
       "      <td>2314.000</td>\n",
       "      <td>485364.000</td>\n",
       "      <td>9549.080</td>\n",
       "      <td>6111.000</td>\n",
       "      <td>Ventura</td>\n",
       "      <td>CA</td>\n",
       "    </tr>\n",
       "    <tr>\n",
       "      <th>15035</th>\n",
       "      <td>2.000</td>\n",
       "      <td>3.000</td>\n",
       "      <td>1278.000</td>\n",
       "      <td>468000.000</td>\n",
       "      <td>5396.080</td>\n",
       "      <td>6111.000</td>\n",
       "      <td>Ventura</td>\n",
       "      <td>CA</td>\n",
       "    </tr>\n",
       "  </tbody>\n",
       "</table>\n",
       "<p>15036 rows × 8 columns</p>\n",
       "</div>"
      ],
      "text/plain": [
       "       bedroom_count  bathroom_count  total_sqft  tax_property_value  \\\n",
       "0              2.000           3.000    1458.000          136104.000   \n",
       "1              1.000           2.000    1421.000           35606.000   \n",
       "2              2.000           3.000    1650.000          614000.000   \n",
       "3              1.000           2.000     693.000          274237.000   \n",
       "4              0.000           0.000    1378.000          168828.000   \n",
       "...              ...             ...         ...                 ...   \n",
       "15031          2.000           3.000    1575.000          506000.000   \n",
       "15032          2.000           3.000    1645.000          230986.000   \n",
       "15033          2.000           3.000    1308.000          255407.000   \n",
       "15034          2.500           4.000    2314.000          485364.000   \n",
       "15035          2.000           3.000    1278.000          468000.000   \n",
       "\n",
       "       tax_amount     fips       county state  \n",
       "0        2319.900 6037.000  Los Angeles    CA  \n",
       "1         543.690 6037.000  Los Angeles    CA  \n",
       "2        7673.190 6037.000  Los Angeles    CA  \n",
       "3        3267.470 6037.000  Los Angeles    CA  \n",
       "4        2135.390 6037.000  Los Angeles    CA  \n",
       "...           ...      ...          ...   ...  \n",
       "15031    5417.500 6111.000      Ventura    CA  \n",
       "15032    2855.780 6111.000      Ventura    CA  \n",
       "15033    2788.680 6111.000      Ventura    CA  \n",
       "15034    9549.080 6111.000      Ventura    CA  \n",
       "15035    5396.080 6111.000      Ventura    CA  \n",
       "\n",
       "[15036 rows x 8 columns]"
      ]
     },
     "execution_count": 2,
     "metadata": {},
     "output_type": "execute_result"
    }
   ],
   "source": [
    "df = acquire.acquire_data()\n",
    "\n",
    "df"
   ]
  },
  {
   "cell_type": "markdown",
   "metadata": {},
   "source": [
    "# Prepair the Data\n",
    "- call clean_df() method from the prep.py\n",
    "- prep.clean_df() receives the zillow dataframe\n",
    "- averages out any empty bathroom or bedroom count\n",
    "- drops an row that is null\n",
    "- calculates the tax rate for each property\n",
    "- sets all fips to integer type"
   ]
  },
  {
   "cell_type": "code",
   "execution_count": 3,
   "metadata": {},
   "outputs": [
    {
     "name": "stdout",
     "output_type": "stream",
     "text": [
      "Cleaning data ...\n",
      "\n",
      "- dropped all rows containing a null\n",
      "- created tax_rate column\n",
      "\n",
      "Zillow_df cleaned and ready for exploration\n"
     ]
    },
    {
     "data": {
      "text/html": [
       "<div>\n",
       "<style scoped>\n",
       "    .dataframe tbody tr th:only-of-type {\n",
       "        vertical-align: middle;\n",
       "    }\n",
       "\n",
       "    .dataframe tbody tr th {\n",
       "        vertical-align: top;\n",
       "    }\n",
       "\n",
       "    .dataframe thead th {\n",
       "        text-align: right;\n",
       "    }\n",
       "</style>\n",
       "<table border=\"1\" class=\"dataframe\">\n",
       "  <thead>\n",
       "    <tr style=\"text-align: right;\">\n",
       "      <th></th>\n",
       "      <th>bedroom_count</th>\n",
       "      <th>bathroom_count</th>\n",
       "      <th>total_sqft</th>\n",
       "      <th>tax_property_value</th>\n",
       "      <th>tax_amount</th>\n",
       "      <th>county</th>\n",
       "      <th>state</th>\n",
       "      <th>tax_rate</th>\n",
       "    </tr>\n",
       "  </thead>\n",
       "  <tbody>\n",
       "    <tr>\n",
       "      <th>0</th>\n",
       "      <td>2.000</td>\n",
       "      <td>3.000</td>\n",
       "      <td>1458.000</td>\n",
       "      <td>136104.000</td>\n",
       "      <td>2319.900</td>\n",
       "      <td>Los Angeles</td>\n",
       "      <td>CA</td>\n",
       "      <td>0.017</td>\n",
       "    </tr>\n",
       "    <tr>\n",
       "      <th>1</th>\n",
       "      <td>1.000</td>\n",
       "      <td>2.000</td>\n",
       "      <td>1421.000</td>\n",
       "      <td>35606.000</td>\n",
       "      <td>543.690</td>\n",
       "      <td>Los Angeles</td>\n",
       "      <td>CA</td>\n",
       "      <td>0.015</td>\n",
       "    </tr>\n",
       "    <tr>\n",
       "      <th>2</th>\n",
       "      <td>2.000</td>\n",
       "      <td>3.000</td>\n",
       "      <td>1650.000</td>\n",
       "      <td>614000.000</td>\n",
       "      <td>7673.190</td>\n",
       "      <td>Los Angeles</td>\n",
       "      <td>CA</td>\n",
       "      <td>0.012</td>\n",
       "    </tr>\n",
       "    <tr>\n",
       "      <th>3</th>\n",
       "      <td>1.000</td>\n",
       "      <td>2.000</td>\n",
       "      <td>693.000</td>\n",
       "      <td>274237.000</td>\n",
       "      <td>3267.470</td>\n",
       "      <td>Los Angeles</td>\n",
       "      <td>CA</td>\n",
       "      <td>0.012</td>\n",
       "    </tr>\n",
       "    <tr>\n",
       "      <th>4</th>\n",
       "      <td>0.000</td>\n",
       "      <td>0.000</td>\n",
       "      <td>1378.000</td>\n",
       "      <td>168828.000</td>\n",
       "      <td>2135.390</td>\n",
       "      <td>Los Angeles</td>\n",
       "      <td>CA</td>\n",
       "      <td>0.013</td>\n",
       "    </tr>\n",
       "    <tr>\n",
       "      <th>...</th>\n",
       "      <td>...</td>\n",
       "      <td>...</td>\n",
       "      <td>...</td>\n",
       "      <td>...</td>\n",
       "      <td>...</td>\n",
       "      <td>...</td>\n",
       "      <td>...</td>\n",
       "      <td>...</td>\n",
       "    </tr>\n",
       "    <tr>\n",
       "      <th>15031</th>\n",
       "      <td>2.000</td>\n",
       "      <td>3.000</td>\n",
       "      <td>1575.000</td>\n",
       "      <td>506000.000</td>\n",
       "      <td>5417.500</td>\n",
       "      <td>Ventura</td>\n",
       "      <td>CA</td>\n",
       "      <td>0.011</td>\n",
       "    </tr>\n",
       "    <tr>\n",
       "      <th>15032</th>\n",
       "      <td>2.000</td>\n",
       "      <td>3.000</td>\n",
       "      <td>1645.000</td>\n",
       "      <td>230986.000</td>\n",
       "      <td>2855.780</td>\n",
       "      <td>Ventura</td>\n",
       "      <td>CA</td>\n",
       "      <td>0.012</td>\n",
       "    </tr>\n",
       "    <tr>\n",
       "      <th>15033</th>\n",
       "      <td>2.000</td>\n",
       "      <td>3.000</td>\n",
       "      <td>1308.000</td>\n",
       "      <td>255407.000</td>\n",
       "      <td>2788.680</td>\n",
       "      <td>Ventura</td>\n",
       "      <td>CA</td>\n",
       "      <td>0.011</td>\n",
       "    </tr>\n",
       "    <tr>\n",
       "      <th>15034</th>\n",
       "      <td>2.500</td>\n",
       "      <td>4.000</td>\n",
       "      <td>2314.000</td>\n",
       "      <td>485364.000</td>\n",
       "      <td>9549.080</td>\n",
       "      <td>Ventura</td>\n",
       "      <td>CA</td>\n",
       "      <td>0.020</td>\n",
       "    </tr>\n",
       "    <tr>\n",
       "      <th>15035</th>\n",
       "      <td>2.000</td>\n",
       "      <td>3.000</td>\n",
       "      <td>1278.000</td>\n",
       "      <td>468000.000</td>\n",
       "      <td>5396.080</td>\n",
       "      <td>Ventura</td>\n",
       "      <td>CA</td>\n",
       "      <td>0.012</td>\n",
       "    </tr>\n",
       "  </tbody>\n",
       "</table>\n",
       "<p>15011 rows × 8 columns</p>\n",
       "</div>"
      ],
      "text/plain": [
       "       bedroom_count  bathroom_count  total_sqft  tax_property_value  \\\n",
       "0              2.000           3.000    1458.000          136104.000   \n",
       "1              1.000           2.000    1421.000           35606.000   \n",
       "2              2.000           3.000    1650.000          614000.000   \n",
       "3              1.000           2.000     693.000          274237.000   \n",
       "4              0.000           0.000    1378.000          168828.000   \n",
       "...              ...             ...         ...                 ...   \n",
       "15031          2.000           3.000    1575.000          506000.000   \n",
       "15032          2.000           3.000    1645.000          230986.000   \n",
       "15033          2.000           3.000    1308.000          255407.000   \n",
       "15034          2.500           4.000    2314.000          485364.000   \n",
       "15035          2.000           3.000    1278.000          468000.000   \n",
       "\n",
       "       tax_amount       county state  tax_rate  \n",
       "0        2319.900  Los Angeles    CA     0.017  \n",
       "1         543.690  Los Angeles    CA     0.015  \n",
       "2        7673.190  Los Angeles    CA     0.012  \n",
       "3        3267.470  Los Angeles    CA     0.012  \n",
       "4        2135.390  Los Angeles    CA     0.013  \n",
       "...           ...          ...   ...       ...  \n",
       "15031    5417.500      Ventura    CA     0.011  \n",
       "15032    2855.780      Ventura    CA     0.012  \n",
       "15033    2788.680      Ventura    CA     0.011  \n",
       "15034    9549.080      Ventura    CA     0.020  \n",
       "15035    5396.080      Ventura    CA     0.012  \n",
       "\n",
       "[15011 rows x 8 columns]"
      ]
     },
     "execution_count": 3,
     "metadata": {},
     "output_type": "execute_result"
    }
   ],
   "source": [
    "df = prep.clean_df(df)\n",
    "df"
   ]
  },
  {
   "cell_type": "markdown",
   "metadata": {},
   "source": [
    "## Tax Distribution by County"
   ]
  },
  {
   "cell_type": "code",
   "execution_count": 4,
   "metadata": {},
   "outputs": [],
   "source": [
    "mask1 = df.county == 'Los Angeles'\n",
    "mask2 = df.county == 'Orange'\n",
    "mask3 = df.county == 'Ventura'\n",
    "lac = df[mask1]\n",
    "oc = df[mask2]\n",
    "vac = df[mask3]"
   ]
  },
  {
   "cell_type": "markdown",
   "metadata": {},
   "source": [
    "### Tax Rate Distribution Visual"
   ]
  },
  {
   "cell_type": "code",
   "execution_count": 5,
   "metadata": {
    "scrolled": true
   },
   "outputs": [
    {
     "data": {
      "image/png": "[encoded data removed]",
      "text/plain": [
       "<Figure size 1008x576 with 3 Axes>"
      ]
     },
     "metadata": {
      "needs_background": "light"
     },
     "output_type": "display_data"
    }
   ],
   "source": [
    "f, axes = plt.subplots(1, 3, figsize=(14, 8), sharex=True)\n",
    "sns.despine(left=True)\n",
    "plt.suptitle('Tax Rate Distribution by County', fontsize=18)\n",
    "ax1 = sns.distplot(lac.tax_rate, kde=True, color='green', ax=axes[0])\n",
    "ax2 = sns.distplot(oc.tax_rate, kde=True, color='blue', ax=axes[1])\n",
    "ax3 = sns.distplot(vac.tax_rate, kde=True, color='brown', ax=axes[2])\n",
    "ax1.title.set_text('Los Angeles')\n",
    "ax2.title.set_text('Orange')\n",
    "ax3.title.set_text('Ventura')\n",
    "ax1.set_ylabel('Home Count\\n', fontsize=14)\n",
    "ax2.set_ylabel('')\n",
    "ax3.set_ylabel('')\n",
    "ax1.set_xlabel('')\n",
    "ax2.set_xlabel('\\ntax_rate', fontsize=14)\n",
    "ax3.set_xlabel('')\n",
    "plt.xlim(0, 0.2)\n",
    "plt.show()"
   ]
  },
  {
   "cell_type": "markdown",
   "metadata": {},
   "source": [
    "## Train Test Split"
   ]
  },
  {
   "cell_type": "code",
   "execution_count": 6,
   "metadata": {},
   "outputs": [
    {
     "name": "stdout",
     "output_type": "stream",
     "text": [
      "(12759, 8)\n",
      "(2252, 8)\n"
     ]
    }
   ],
   "source": [
    "train, test = sklearn.model_selection.train_test_split(df, train_size=.85, random_state=22)\n",
    "print(train.shape)\n",
    "print(test.shape)"
   ]
  },
  {
   "cell_type": "code",
   "execution_count": 35,
   "metadata": {},
   "outputs": [
    {
     "data": {
      "image/png": "[encoded data removed]",
      "text/plain": [
       "<Figure size 864x576 with 1 Axes>"
      ]
     },
     "metadata": {
      "needs_background": "light"
     },
     "output_type": "display_data"
    }
   ],
   "source": [
    "plt.figure(figsize=(12, 8))\n",
    "plt.title('Property Tax Value by County')\n",
    "y = train.tax_property_value\n",
    "x = train.county\n",
    "sns.barplot(x, y)\n",
    "plt.xlabel('\\nCounty Name', fontsize=14)\n",
    "plt.ylabel('Property Tax Value\\n', fontsize=14)\n",
    "plt.show()"
   ]
  },
  {
   "cell_type": "markdown",
   "metadata": {},
   "source": [
    "# Explore the data"
   ]
  },
  {
   "cell_type": "code",
   "execution_count": 36,
   "metadata": {},
   "outputs": [],
   "source": [
    "# explore.plot_variable_pairs(df, hue=None)"
   ]
  },
  {
   "cell_type": "markdown",
   "metadata": {},
   "source": [
    "## My Hypotheses:"
   ]
  },
  {
   "cell_type": "markdown",
   "metadata": {},
   "source": [
    "- $𝐻_0$: there is no linear correlation between any of the values and tax_property_value\n",
    "- $𝐻_𝑎$ : there is linear correlation between at least one of the values and tax_property_value"
   ]
  },
  {
   "cell_type": "code",
   "execution_count": 37,
   "metadata": {},
   "outputs": [],
   "source": [
    "y = train.tax_property_value\n",
    "\n",
    "# change first three to little x\n",
    "x_bath = train.bathroom_count\n",
    "# bath_corr, bath_p = explore.get_pearsonr(x_bath, y)\n",
    "x_bed = train.bedroom_count\n",
    "x_sqft = train.total_sqft\n",
    "X_all_three = train[['bathroom_count', 'bedroom_count', 'total_sqft']]"
   ]
  },
  {
   "cell_type": "code",
   "execution_count": 38,
   "metadata": {},
   "outputs": [
    {
     "data": {
      "text/html": [
       "<div>\n",
       "<style scoped>\n",
       "    .dataframe tbody tr th:only-of-type {\n",
       "        vertical-align: middle;\n",
       "    }\n",
       "\n",
       "    .dataframe tbody tr th {\n",
       "        vertical-align: top;\n",
       "    }\n",
       "\n",
       "    .dataframe thead th {\n",
       "        text-align: right;\n",
       "    }\n",
       "</style>\n",
       "<table border=\"1\" class=\"dataframe\">\n",
       "  <thead>\n",
       "    <tr style=\"text-align: right;\">\n",
       "      <th></th>\n",
       "      <th>bathroom_count</th>\n",
       "      <th>bedroom_count</th>\n",
       "      <th>total_sqft</th>\n",
       "    </tr>\n",
       "  </thead>\n",
       "  <tbody>\n",
       "    <tr>\n",
       "      <th>13171</th>\n",
       "      <td>5.000</td>\n",
       "      <td>4.500</td>\n",
       "      <td>4211.000</td>\n",
       "    </tr>\n",
       "    <tr>\n",
       "      <th>8395</th>\n",
       "      <td>4.000</td>\n",
       "      <td>2.000</td>\n",
       "      <td>1541.000</td>\n",
       "    </tr>\n",
       "    <tr>\n",
       "      <th>14203</th>\n",
       "      <td>3.000</td>\n",
       "      <td>2.000</td>\n",
       "      <td>2208.000</td>\n",
       "    </tr>\n",
       "    <tr>\n",
       "      <th>5539</th>\n",
       "      <td>3.000</td>\n",
       "      <td>2.000</td>\n",
       "      <td>1667.000</td>\n",
       "    </tr>\n",
       "    <tr>\n",
       "      <th>3090</th>\n",
       "      <td>2.000</td>\n",
       "      <td>1.000</td>\n",
       "      <td>952.000</td>\n",
       "    </tr>\n",
       "    <tr>\n",
       "      <th>...</th>\n",
       "      <td>...</td>\n",
       "      <td>...</td>\n",
       "      <td>...</td>\n",
       "    </tr>\n",
       "    <tr>\n",
       "      <th>5482</th>\n",
       "      <td>5.000</td>\n",
       "      <td>4.000</td>\n",
       "      <td>2771.000</td>\n",
       "    </tr>\n",
       "    <tr>\n",
       "      <th>8555</th>\n",
       "      <td>3.000</td>\n",
       "      <td>3.000</td>\n",
       "      <td>2085.000</td>\n",
       "    </tr>\n",
       "    <tr>\n",
       "      <th>13122</th>\n",
       "      <td>4.000</td>\n",
       "      <td>3.000</td>\n",
       "      <td>3850.000</td>\n",
       "    </tr>\n",
       "    <tr>\n",
       "      <th>6282</th>\n",
       "      <td>5.000</td>\n",
       "      <td>4.000</td>\n",
       "      <td>3048.000</td>\n",
       "    </tr>\n",
       "    <tr>\n",
       "      <th>11138</th>\n",
       "      <td>4.000</td>\n",
       "      <td>2.000</td>\n",
       "      <td>1808.000</td>\n",
       "    </tr>\n",
       "  </tbody>\n",
       "</table>\n",
       "<p>12759 rows × 3 columns</p>\n",
       "</div>"
      ],
      "text/plain": [
       "       bathroom_count  bedroom_count  total_sqft\n",
       "13171           5.000          4.500    4211.000\n",
       "8395            4.000          2.000    1541.000\n",
       "14203           3.000          2.000    2208.000\n",
       "5539            3.000          2.000    1667.000\n",
       "3090            2.000          1.000     952.000\n",
       "...               ...            ...         ...\n",
       "5482            5.000          4.000    2771.000\n",
       "8555            3.000          3.000    2085.000\n",
       "13122           4.000          3.000    3850.000\n",
       "6282            5.000          4.000    3048.000\n",
       "11138           4.000          2.000    1808.000\n",
       "\n",
       "[12759 rows x 3 columns]"
      ]
     },
     "execution_count": 38,
     "metadata": {},
     "output_type": "execute_result"
    }
   ],
   "source": [
    "X_all_three"
   ]
  },
  {
   "cell_type": "markdown",
   "metadata": {},
   "source": [
    "### Correlations between features and propery values"
   ]
  },
  {
   "cell_type": "code",
   "execution_count": 39,
   "metadata": {},
   "outputs": [],
   "source": [
    "bath_corr, bath_p = explore.get_pearsonr(x_bath, y)\n",
    "bed_corr, bed_p = explore.get_pearsonr(x_bed, y)\n",
    "sqrt_corr, sqrt_p = explore.get_pearsonr(x_sqft, y)"
   ]
  },
  {
   "cell_type": "code",
   "execution_count": 40,
   "metadata": {
    "scrolled": true
   },
   "outputs": [
    {
     "name": "stdout",
     "output_type": "stream",
     "text": [
      "bath_corr: 0.28056662981849, bath_p 1.9047361356020748e-229\n",
      "bed_corr: 0.5155792260019061, bed_p 0.0\n",
      "sqrt_corr: 0.6030768006911846, sqrt_p 0.0\n"
     ]
    }
   ],
   "source": [
    "print(f'bath_corr: {bath_corr}, bath_p {bath_p}')\n",
    "print(f'bed_corr: {bed_corr}, bed_p {bed_p}')\n",
    "print(f'sqrt_corr: {sqrt_corr}, sqrt_p {sqrt_p}')"
   ]
  },
  {
   "cell_type": "markdown",
   "metadata": {},
   "source": [
    "- With a higher correlation of the three, sqft is the best\n",
    "- What about all three"
   ]
  },
  {
   "cell_type": "code",
   "execution_count": 41,
   "metadata": {},
   "outputs": [],
   "source": [
    "predictions = pd.DataFrame({\n",
    "    'county': train.county,\n",
    "    'actual': train.tax_property_value\n",
    "})"
   ]
  },
  {
   "cell_type": "code",
   "execution_count": 42,
   "metadata": {},
   "outputs": [],
   "source": [
    "# change first three to little x\n",
    "X_bathrm_count = train[['bathroom_count']]\n",
    "X_bedrm_count = train[['bedroom_count']]\n",
    "X_sqft = train[['total_sqft']]\n",
    "X_all_three = train[['bathroom_count', 'bedroom_count', 'total_sqft']]\n",
    "\n",
    "y = train.tax_property_value"
   ]
  },
  {
   "cell_type": "markdown",
   "metadata": {},
   "source": [
    "### Linear Regession"
   ]
  },
  {
   "cell_type": "code",
   "execution_count": 15,
   "metadata": {},
   "outputs": [],
   "source": [
    "predictions['baseline'] = y.mean()"
   ]
  },
  {
   "cell_type": "code",
   "execution_count": 16,
   "metadata": {},
   "outputs": [],
   "source": [
    "lm = sklearn.linear_model.LinearRegression()"
   ]
  },
  {
   "cell_type": "code",
   "execution_count": 17,
   "metadata": {},
   "outputs": [],
   "source": [
    "bathroom_lm = lm.fit(X_bathrm_count, y)\n",
    "predictions['bathroom_ct_lm'] = bathroom_lm.predict(X_bathrm_count)\n",
    "\n",
    "bedroom_lm = lm.fit(X_bedrm_count, y)\n",
    "predictions['bedroom_ct_lm'] = bedroom_lm.predict(X_bedrm_count)\n",
    "\n",
    "sqft_lm = lm.fit(X_sqft, y)\n",
    "predictions['sqft_lm'] = sqft_lm.predict(X_sqft)\n",
    "\n",
    "all_three_lm = lm.fit(X_all_three, y)\n",
    "predictions['all_three_lm'] = all_three_lm.predict(X_all_three)"
   ]
  },
  {
   "cell_type": "code",
   "execution_count": 18,
   "metadata": {},
   "outputs": [
    {
     "data": {
      "text/html": [
       "<div>\n",
       "<style scoped>\n",
       "    .dataframe tbody tr th:only-of-type {\n",
       "        vertical-align: middle;\n",
       "    }\n",
       "\n",
       "    .dataframe tbody tr th {\n",
       "        vertical-align: top;\n",
       "    }\n",
       "\n",
       "    .dataframe thead th {\n",
       "        text-align: right;\n",
       "    }\n",
       "</style>\n",
       "<table border=\"1\" class=\"dataframe\">\n",
       "  <thead>\n",
       "    <tr style=\"text-align: right;\">\n",
       "      <th></th>\n",
       "      <th>county</th>\n",
       "      <th>actual</th>\n",
       "      <th>baseline</th>\n",
       "      <th>bathroom_ct_lm</th>\n",
       "      <th>bedroom_ct_lm</th>\n",
       "      <th>sqft_lm</th>\n",
       "      <th>all_three_lm</th>\n",
       "    </tr>\n",
       "  </thead>\n",
       "  <tbody>\n",
       "    <tr>\n",
       "      <th>13171</th>\n",
       "      <td>Orange</td>\n",
       "      <td>1267425.000</td>\n",
       "      <td>543023.912</td>\n",
       "      <td>916936.329</td>\n",
       "      <td>1356303.396</td>\n",
       "      <td>1555697.155</td>\n",
       "      <td>1516597.022</td>\n",
       "    </tr>\n",
       "    <tr>\n",
       "      <th>8395</th>\n",
       "      <td>Los Angeles</td>\n",
       "      <td>343170.000</td>\n",
       "      <td>543023.912</td>\n",
       "      <td>695041.049</td>\n",
       "      <td>420037.680</td>\n",
       "      <td>363341.809</td>\n",
       "      <td>229154.062</td>\n",
       "    </tr>\n",
       "    <tr>\n",
       "      <th>14203</th>\n",
       "      <td>Ventura</td>\n",
       "      <td>424336.000</td>\n",
       "      <td>543023.912</td>\n",
       "      <td>473145.769</td>\n",
       "      <td>420037.680</td>\n",
       "      <td>661207.358</td>\n",
       "      <td>701214.684</td>\n",
       "    </tr>\n",
       "    <tr>\n",
       "      <th>5539</th>\n",
       "      <td>Los Angeles</td>\n",
       "      <td>576000.000</td>\n",
       "      <td>543023.912</td>\n",
       "      <td>473145.769</td>\n",
       "      <td>420037.680</td>\n",
       "      <td>419610.264</td>\n",
       "      <td>437093.374</td>\n",
       "    </tr>\n",
       "    <tr>\n",
       "      <th>3090</th>\n",
       "      <td>Los Angeles</td>\n",
       "      <td>21902.000</td>\n",
       "      <td>543023.912</td>\n",
       "      <td>251250.488</td>\n",
       "      <td>45531.393</td>\n",
       "      <td>100309.113</td>\n",
       "      <td>182309.078</td>\n",
       "    </tr>\n",
       "    <tr>\n",
       "      <th>...</th>\n",
       "      <td>...</td>\n",
       "      <td>...</td>\n",
       "      <td>...</td>\n",
       "      <td>...</td>\n",
       "      <td>...</td>\n",
       "      <td>...</td>\n",
       "      <td>...</td>\n",
       "    </tr>\n",
       "    <tr>\n",
       "      <th>5482</th>\n",
       "      <td>Los Angeles</td>\n",
       "      <td>157153.000</td>\n",
       "      <td>543023.912</td>\n",
       "      <td>916936.329</td>\n",
       "      <td>1169050.252</td>\n",
       "      <td>912629.104</td>\n",
       "      <td>787505.689</td>\n",
       "    </tr>\n",
       "    <tr>\n",
       "      <th>8555</th>\n",
       "      <td>Los Angeles</td>\n",
       "      <td>1085000.000</td>\n",
       "      <td>543023.912</td>\n",
       "      <td>473145.769</td>\n",
       "      <td>794543.966</td>\n",
       "      <td>606278.629</td>\n",
       "      <td>693304.389</td>\n",
       "    </tr>\n",
       "    <tr>\n",
       "      <th>13122</th>\n",
       "      <td>Orange</td>\n",
       "      <td>975915.000</td>\n",
       "      <td>543023.912</td>\n",
       "      <td>695041.049</td>\n",
       "      <td>794543.966</td>\n",
       "      <td>1394483.567</td>\n",
       "      <td>1408569.135</td>\n",
       "    </tr>\n",
       "    <tr>\n",
       "      <th>6282</th>\n",
       "      <td>Los Angeles</td>\n",
       "      <td>964487.000</td>\n",
       "      <td>543023.912</td>\n",
       "      <td>916936.329</td>\n",
       "      <td>1169050.252</td>\n",
       "      <td>1036330.389</td>\n",
       "      <td>922739.705</td>\n",
       "    </tr>\n",
       "    <tr>\n",
       "      <th>11138</th>\n",
       "      <td>Orange</td>\n",
       "      <td>317835.000</td>\n",
       "      <td>543023.912</td>\n",
       "      <td>695041.049</td>\n",
       "      <td>420037.680</td>\n",
       "      <td>482577.344</td>\n",
       "      <td>359505.983</td>\n",
       "    </tr>\n",
       "  </tbody>\n",
       "</table>\n",
       "<p>12759 rows × 7 columns</p>\n",
       "</div>"
      ],
      "text/plain": [
       "            county      actual   baseline  bathroom_ct_lm  bedroom_ct_lm  \\\n",
       "13171       Orange 1267425.000 543023.912      916936.329    1356303.396   \n",
       "8395   Los Angeles  343170.000 543023.912      695041.049     420037.680   \n",
       "14203      Ventura  424336.000 543023.912      473145.769     420037.680   \n",
       "5539   Los Angeles  576000.000 543023.912      473145.769     420037.680   \n",
       "3090   Los Angeles   21902.000 543023.912      251250.488      45531.393   \n",
       "...            ...         ...        ...             ...            ...   \n",
       "5482   Los Angeles  157153.000 543023.912      916936.329    1169050.252   \n",
       "8555   Los Angeles 1085000.000 543023.912      473145.769     794543.966   \n",
       "13122       Orange  975915.000 543023.912      695041.049     794543.966   \n",
       "6282   Los Angeles  964487.000 543023.912      916936.329    1169050.252   \n",
       "11138       Orange  317835.000 543023.912      695041.049     420037.680   \n",
       "\n",
       "          sqft_lm  all_three_lm  \n",
       "13171 1555697.155   1516597.022  \n",
       "8395   363341.809    229154.062  \n",
       "14203  661207.358    701214.684  \n",
       "5539   419610.264    437093.374  \n",
       "3090   100309.113    182309.078  \n",
       "...           ...           ...  \n",
       "5482   912629.104    787505.689  \n",
       "8555   606278.629    693304.389  \n",
       "13122 1394483.567   1408569.135  \n",
       "6282  1036330.389    922739.705  \n",
       "11138  482577.344    359505.983  \n",
       "\n",
       "[12759 rows x 7 columns]"
      ]
     },
     "execution_count": 18,
     "metadata": {},
     "output_type": "execute_result"
    }
   ],
   "source": [
    "predictions"
   ]
  },
  {
   "cell_type": "markdown",
   "metadata": {},
   "source": [
    "#### Plot the Predictions"
   ]
  },
  {
   "cell_type": "code",
   "execution_count": 19,
   "metadata": {},
   "outputs": [
    {
     "data": {
      "image/png": "[encoded data removed]",
      "text/plain": [
       "<Figure size 1296x576 with 3 Axes>"
      ]
     },
     "metadata": {
      "needs_background": "light"
     },
     "output_type": "display_data"
    }
   ],
   "source": [
    "plt.figure(figsize=(18,8))\n",
    "plt.suptitle('Property Tax Values: Predicted vs Actual\\n', fontsize=18)\n",
    "\n",
    "# Figure 1\n",
    "plt.subplot(1, 3, 1)\n",
    "plt.title('bathrm_count\\n', fontsize=14)\n",
    "plt.scatter(X_bathrm_count, predictions.actual, label='actual')\n",
    "plt.scatter(X_bathrm_count, predictions.bathroom_ct_lm, label='bathroom_ct_lm')\n",
    "plt.xlabel('\\nbathrm_count')\n",
    "plt.ylabel('tax_value_dollar_count')\n",
    "plt.legend()\n",
    "\n",
    "# Figure 2\n",
    "plt.subplot(1, 3, 2)\n",
    "plt.title('bedrm_count\\n', fontsize=14)\n",
    "plt.scatter(X_bedrm_count, predictions.actual, label='actual')\n",
    "plt.scatter(X_bedrm_count, predictions.bedroom_ct_lm, label='bedroom_ct_lm')\n",
    "plt.xlabel('\\nbedrm_count')\n",
    "plt.ylabel('tax_value_dollar_count')\n",
    "plt.legend()\n",
    "\n",
    "# Figure 3\n",
    "plt.subplot(1, 3, 3)\n",
    "plt.title('sqft\\n', fontsize=14)\n",
    "plt.scatter(X_sqft, predictions.actual, label='actual')\n",
    "plt.scatter(X_sqft, predictions.sqft_lm, label='sqft_lm')\n",
    "plt.xlabel('\\nsqft')\n",
    "plt.ylabel('tax_value_dollar_count')\n",
    "plt.legend()\n",
    "\n",
    "plt.show()"
   ]
  },
  {
   "cell_type": "markdown",
   "metadata": {},
   "source": [
    "# Train the Model"
   ]
  },
  {
   "cell_type": "code",
   "execution_count": 20,
   "metadata": {},
   "outputs": [],
   "source": [
    "RMSE_model = pd.DataFrame({\n",
    "    'actual': train.tax_property_value\n",
    "})"
   ]
  },
  {
   "cell_type": "code",
   "execution_count": 21,
   "metadata": {},
   "outputs": [],
   "source": [
    "SSE, ESS, TSS, MSE, RMSE_bath = evaluate.regression_errors(predictions.actual, predictions.bathroom_ct_lm)\n",
    "RMSE_model['RMSE_bathroom'] = RMSE_bath"
   ]
  },
  {
   "cell_type": "code",
   "execution_count": 22,
   "metadata": {},
   "outputs": [],
   "source": [
    "SSE, ESS, TSS, MSE, RMSE_bed = evaluate.regression_errors(predictions.actual, predictions.bedroom_ct_lm)\n",
    "RMSE_model['RMSE_bedroom'] = RMSE_bed"
   ]
  },
  {
   "cell_type": "code",
   "execution_count": 23,
   "metadata": {},
   "outputs": [],
   "source": [
    "SSE, ESS, TSS, MSE, RMSE_sqft = evaluate.regression_errors(predictions.actual, predictions.sqft_lm)\n",
    "RMSE_model['RMSE_sqft'] = RMSE_sqft"
   ]
  },
  {
   "cell_type": "code",
   "execution_count": 24,
   "metadata": {},
   "outputs": [],
   "source": [
    "SSE, ESS, TSS, MSE, RMSE_all_3 = evaluate.regression_errors(predictions.actual, predictions.all_three_lm)\n",
    "RMSE_model['RMSE_all_three'] = RMSE_all_3"
   ]
  },
  {
   "cell_type": "code",
   "execution_count": 25,
   "metadata": {},
   "outputs": [],
   "source": [
    "SSE_baseline, MSE_baseline, RMSE_baseline = evaluate.baseline_mean_errors(predictions.actual, predictions.baseline)\n",
    "RMSE_model['RMSE_baseline'] = RMSE_baseline"
   ]
  },
  {
   "cell_type": "code",
   "execution_count": 26,
   "metadata": {
    "scrolled": true
   },
   "outputs": [
    {
     "name": "stdout",
     "output_type": "stream",
     "text": [
      "Model is better than baseline\n",
      "None\n"
     ]
    }
   ],
   "source": [
    "print(evaluate.bettter_than_baeline(RMSE_all_3, RMSE_baseline))"
   ]
  },
  {
   "cell_type": "markdown",
   "metadata": {},
   "source": [
    "- The best RMSE model consist of using all three features; bathroom count, bedroom count, and sqft"
   ]
  },
  {
   "cell_type": "markdown",
   "metadata": {},
   "source": [
    "# Evaluating the Model"
   ]
  },
  {
   "cell_type": "code",
   "execution_count": 43,
   "metadata": {},
   "outputs": [],
   "source": [
    "test_baseline = test.tax_property_value.mean()"
   ]
  },
  {
   "cell_type": "code",
   "execution_count": 44,
   "metadata": {},
   "outputs": [],
   "source": [
    "# change first three to little x\n",
    "X_test = test[['bathroom_count', 'bedroom_count', 'total_sqft']]\n",
    "\n",
    "y = test.tax_property_value"
   ]
  },
  {
   "cell_type": "code",
   "execution_count": 45,
   "metadata": {},
   "outputs": [],
   "source": [
    "test_predictions = pd.DataFrame({\n",
    "    \n",
    "    'actual': test.tax_property_value\n",
    "})"
   ]
  },
  {
   "cell_type": "code",
   "execution_count": 46,
   "metadata": {},
   "outputs": [],
   "source": [
    "test_predictions['baseline'] = test_baseline\n",
    "test_predictions['bath_bed_sqft_lm'] = all_three_lm.predict(X_test)"
   ]
  },
  {
   "cell_type": "code",
   "execution_count": 47,
   "metadata": {},
   "outputs": [],
   "source": [
    "SSE_baseline, MSE_baseline, RMSE_baseline = evaluate.baseline_mean_errors(test_predictions.actual, test_predictions.baseline)"
   ]
  },
  {
   "cell_type": "code",
   "execution_count": 48,
   "metadata": {},
   "outputs": [],
   "source": [
    "SSE, ESS, TSS, MSE, RMSE = evaluate.regression_errors(test_predictions.actual, test_predictions.bath_bed_sqft_lm)"
   ]
  },
  {
   "cell_type": "code",
   "execution_count": 49,
   "metadata": {},
   "outputs": [
    {
     "data": {
      "text/plain": [
       "(531751.1079040853, 496192.4014266531, 631300.9469932646)"
      ]
     },
     "execution_count": 49,
     "metadata": {},
     "output_type": "execute_result"
    }
   ],
   "source": [
    "test_baseline, RMSE, RMSE_baseline"
   ]
  },
  {
   "cell_type": "code",
   "execution_count": 50,
   "metadata": {},
   "outputs": [
    {
     "name": "stdout",
     "output_type": "stream",
     "text": [
      "Model is better than baseline\n",
      "None\n"
     ]
    }
   ],
   "source": [
    "print(evaluate.bettter_than_baeline(RMSE, RMSE_baseline))"
   ]
  },
  {
   "cell_type": "code",
   "execution_count": null,
   "metadata": {},
   "outputs": [],
   "source": []
  }
 ],
 "metadata": {
  "kernelspec": {
   "display_name": "Python 3",
   "language": "python",
   "name": "python3"
  },
  "language_info": {
   "codemirror_mode": {
    "name": "ipython",
    "version": 3
   },
   "file_extension": ".py",
   "mimetype": "text/x-python",
   "name": "python",
   "nbconvert_exporter": "python",
   "pygments_lexer": "ipython3",
   "version": "3.7.6"
  },
  "toc": {
   "base_numbering": 1,
   "nav_menu": {},
   "number_sections": true,
   "sideBar": true,
   "skip_h1_title": false,
   "title_cell": "Table of Contents",
   "title_sidebar": "Contents",
   "toc_cell": false,
   "toc_position": {},
   "toc_section_display": true,
   "toc_window_display": true
  }
 },
 "nbformat": 4,
 "nbformat_minor": 4
}
